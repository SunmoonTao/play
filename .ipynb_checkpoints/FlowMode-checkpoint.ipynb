{
 "cells": [
  {
   "cell_type": "code",
   "execution_count": 98,
   "metadata": {},
   "outputs": [
    {
     "name": "stdout",
     "output_type": "stream",
     "text": [
      "Collecting numpy\n",
      "  Downloading numpy-1.18.4-cp36-cp36m-macosx_10_9_x86_64.whl (15.2 MB)\n",
      "\u001b[K     |████████████████████████████████| 15.2 MB 9.1 MB/s eta 0:00:01\n",
      "\u001b[?25hInstalling collected packages: numpy\n",
      "Successfully installed numpy-1.18.4\n"
     ]
    }
   ],
   "source": [
    "#!pip install numpy\n",
    "# "
   ]
  },
  {
   "cell_type": "code",
   "execution_count": 101,
   "metadata": {},
   "outputs": [],
   "source": [
    "from prettytable import PrettyTable\n",
    "import numpy as np\n",
    "from math import ceil\n",
    "import textwrap\n"
   ]
  },
  {
   "cell_type": "code",
   "execution_count": 310,
   "metadata": {},
   "outputs": [],
   "source": [
    "###input###\n",
    "#1. text\n",
    "#2. file\n",
    "\n",
    "text = 'One of the (most important methods) in genetics or genomics is the \\\n",
    "extraction of good-quality deoxyribonucleic acid (DNA). \\\n",
    "Although DNA is isolated on a routine basis, \\\n",
    "the quantity and quality of isolated DNA are dependent\\\n",
    "on several factors, such as the skills of the operator, the understanding \\\n",
    "of the principles of the method, the method for isolation, the age and type of \\\n",
    "tissue used, and contaminants in the tissue selected. Although sheared DNA can be used for \\\n",
    "PCR application, high-quality and relatively unsheared DNA is a prerequisite for use in \\\n",
    "next-generation sequencing (NGS) applications.' "
   ]
  },
  {
   "cell_type": "code",
   "execution_count": 326,
   "metadata": {},
   "outputs": [],
   "source": [
    "def word_with_punc(word):\n",
    "    punc_r = [\".\",\";\",\":\",\"!\",\"?\",\"/\",\"\\\\\",\",\",\"#\",\"@\",\"$\",\"&\",\"\\\"\",\"-\"]\n",
    "\n",
    "    if word[-1] in punc_r:\n",
    "        word=word[-1]+word[:-1]\n",
    "    elif ')' in word:\n",
    "        word='(' + word[:-1]\n",
    "    elif ']' in word:\n",
    "        word='[' + word[:-1]\n",
    "    elif '}' in word:\n",
    "        word='[' + word[:-1]\n",
    "    elif '(' in word:\n",
    "        word=word[1:]+')'\n",
    "    elif '[' in word:\n",
    "        word= word[1:]+']'\n",
    "    elif '{' in word:\n",
    "        word= word[1:]+'}'\n",
    "    else:\n",
    "        word=word\n",
    "    return (word)\n"
   ]
  },
  {
   "cell_type": "code",
   "execution_count": 329,
   "metadata": {},
   "outputs": [
    {
     "data": {
      "text/plain": [
       "'[ndsa'"
      ]
     },
     "execution_count": 329,
     "metadata": {},
     "output_type": "execute_result"
    }
   ],
   "source": [
    "word_with_punc('ndsa]')"
   ]
  },
  {
   "cell_type": "code",
   "execution_count": 313,
   "metadata": {},
   "outputs": [],
   "source": [
    "def reverse_sentense(row):\n",
    "    output=list()\n",
    "    row.reverse()\n",
    "    for index,w in enumerate(row):\n",
    "        output.append(word_with_punc(w))\n",
    "    return(output)\n"
   ]
  },
  {
   "cell_type": "code",
   "execution_count": 139,
   "metadata": {},
   "outputs": [],
   "source": [
    "# words_per_line=9\n",
    "#bag_of_words=np.asarray(text.split()+(ceil(len(text.split())/words_per_line)*words_per_line-len(text.split()))*['eeeeee'])"
   ]
  },
  {
   "cell_type": "code",
   "execution_count": 308,
   "metadata": {},
   "outputs": [],
   "source": []
  },
  {
   "cell_type": "code",
   "execution_count": 311,
   "metadata": {},
   "outputs": [
    {
     "name": "stdout",
     "output_type": "stream",
     "text": [
      ">>> One of the (most important methods) in genetics or genomics is the\n",
      "DNA Although .(DNA) acid deoxyribonucleic good-quality of extraction <<<\n",
      ">>> is isolated on a routine basis, the quantity and quality of isolated\n",
      "the of skills the as such ,factors several dependenton are DNA <<<\n",
      ">>> operator, the understanding of the principles of the method, the\n",
      "and ,used tissue of type and age the ,isolation for method <<<\n",
      ">>> contaminants in the tissue selected. Although sheared DNA can be used\n",
      "a is DNA unsheared relatively and high-quality ,application PCR for <<<\n",
      ">>> prerequisite for use in next-generation sequencing (NGS) applications.\n"
     ]
    }
   ],
   "source": [
    "lines=textwrap.wrap(text, width=70)\n",
    "\n",
    "flow=[]\n",
    "for i in range (len(lines)):\n",
    "    line_index=i+1\n",
    "    if line_index%2:\n",
    "#         print (line_index)\n",
    "        flow.append(['>>>']+lines[i].split())\n",
    "    else:\n",
    "        flow.append(reverse_sentense(lines[i].split())+['<<<'])\n",
    "for i in flow:\n",
    "    print (' '.join(i))"
   ]
  },
  {
   "cell_type": "code",
   "execution_count": 312,
   "metadata": {},
   "outputs": [
    {
     "name": "stdout",
     "output_type": "stream",
     "text": [
      "----------------------------------------------------------------------\n",
      ">>> Cell-cycle dynamics of chromosomalorganization at single-cell \r\n",
      "                                              resolution <<< \r\n",
      "----------------------------------------------------------------------\n",
      ">>> Chromosomes in proliferating metazoan cells undergo marked structural \r\n",
      "condensed highly between alternating ,cycle cell every metamorphoses <<< \r\n",
      ">>> mitotic structures that facilitate chromosome segregation, and \r\n",
      ",transcription accommodate that structures interphase decondensed <<< \r\n",
      ">>> gene silencing and DNA replication. Here we use single-cell Hi-C \r\n",
      "study to analysis (capture conformation chromosome resolution -(high <<< \r\n",
      ">>> chromosome conformations in thousands of individual cells, and \r\n",
      "position finely that profiles cis-interaction of continuum a discover <<< \r\n",
      ">>> individual cells along the cell cycle. We show that chromosomal \r\n",
      "contact ,(TADs) domains topological-associated ,compartments <<< \r\n",
      ">>> insulation and long-range loops, all defined by bulk Hi-C maps, are \r\n",
      "DNA ,particular In .dynamics cell-cycle distinct by governed <<< \r\n",
      ">>> replication correlates with a build-up of compartments and a \r\n",
      "G1 from stable generally are loops while ,insulation TAD in reduction <<< \r\n",
      ">>> to S and G2 phase. Whole-genome three-dimensional structural models \r\n",
      "with compartments chromosomal of architecture radial a reveal <<< \r\n",
      ">>> distinct epigenomic signatures. Our single-cell data therefore allow \r\n",
      "prism the through maps conformation chromosome of re-interpretation <<< \r\n",
      ">>> of the cell cycle. \r\n",
      "----------------------------------------------------------------------\n",
      ">>> As cells progress from mitosis to interphase and back again, their \r\n",
      "have that alterations structural notable undergo chromosomes <<< \r\n",
      ">>> intrigued microscopists for more than a century1. In preparation for \r\n",
      "rod-like into packaged are chromosomes ,division cell and mitosis <<< \r\n",
      ">>> structures that are functionally inert. Upon mitotic exit, \r\n",
      "regulated allow that structures into dense -decon rapidly chromosomes <<< \r\n",
      ">>> access to functional elements, enabling genome functions such as \r\n",
      "the Although .replication DNA and silencing gene ,transcription <<< \r\n",
      ">>> structural and organizational principles of the interphase genome \r\n",
      ",Hi-C2–10 using particular in ,study intense of subject the been have <<< \r\n",
      ">>> genome-wide, high-resolution understanding of chromosome cell-cycle \r\n",
      ".technologies current by limited still is dynamics11 <<< \r\n"
     ]
    }
   ],
   "source": [
    "with open (\"text.txt\",'r') as f:\n",
    "    width=70\n",
    "    s=f.read()\n",
    "    pars=s.split('\\n\\n')\n",
    "    output=list()\n",
    "    for par in pars:\n",
    "        if len(par) > 0:\n",
    "            print ('-'*width)\n",
    "            flow=[]\n",
    "            lines=textwrap.wrap(par, width)\n",
    "            for i in range (len(lines)):\n",
    "                line_index=i+1\n",
    "                if line_index%2:\n",
    "                    flow.append(['>>>']+lines[i].split()+['\\r'])\n",
    "                elif len(lines[i])< width/2:\n",
    "                    flow.append([' ']*(int(width/3))  + reverse_sentense(lines[i].split())+['<<<']+['\\r'])\n",
    "                else:\n",
    "                    flow.append(reverse_sentense(lines[i].split())+['<<<']+['\\r'])\n",
    "            for i in flow:\n",
    "                print (' '.join(i))\n",
    "            output.append(flow)\n",
    "        else: pass\n",
    "        \n"
   ]
  },
  {
   "cell_type": "code",
   "execution_count": 208,
   "metadata": {},
   "outputs": [
    {
     "name": "stdout",
     "output_type": "stream",
     "text": [
      "\n",
      "\n",
      "\r\n",
      ">>> Cell-cycle dynamics of chromosomalorganization at single-cell \r\n",
      "                                              resolution <<< \r\n",
      "\n",
      "\n",
      "\r\n",
      ">>> Chromosomes in proliferating metazoan cells undergo marked structural \r\n",
      "condensed highly between alternating ,cycle cell every metamorphoses <<< \r\n",
      ">>> mitotic structures that facilitate chromosome segregation, and \r\n",
      ",transcription accommodate that structures interphase decondensed <<< \r\n",
      ">>> gene silencing and DNA replication. Here we use single-cell Hi-C \r\n",
      "study to analysis capture) conformation chromosome resolution (high- <<< \r\n",
      ">>> chromosome conformations in thousands of individual cells, and \r\n",
      "position finely that profiles cis-interaction of continuum a discover <<< \r\n",
      ">>> individual cells along the cell cycle. We show that chromosomal \r\n",
      "contact ,(TADs) domains topological-associated ,compartments <<< \r\n",
      ">>> insulation and long-range loops, all defined by bulk Hi-C maps, are \r\n",
      "DNA ,particular In .dynamics cell-cycle distinct by governed <<< \r\n",
      ">>> replication correlates with a build-up of compartments and a \r\n",
      "G1 from stable generally are loops while ,insulation TAD in reduction <<< \r\n",
      ">>> to S and G2 phase. Whole-genome three-dimensional structural models \r\n",
      "with compartments chromosomal of architecture radial a reveal <<< \r\n",
      ">>> distinct epigenomic signatures. Our single-cell data therefore allow \r\n",
      "prism the through maps conformation chromosome of re-interpretation <<< \r\n",
      ">>> of the cell cycle. \r\n",
      "\n",
      "\n",
      "\r\n",
      ">>> As cells progress from mitosis to interphase and back again, their \r\n",
      "have that alterations structural notable undergo chromosomes <<< \r\n",
      ">>> intrigued microscopists for more than a century1. In preparation for \r\n",
      "rod-like into packaged are chromosomes ,division cell and mitosis <<< \r\n",
      ">>> structures that are functionally inert. Upon mitotic exit, \r\n",
      "regulated allow that structures into dense decon- rapidly chromosomes <<< \r\n",
      ">>> access to functional elements, enabling genome functions such as \r\n",
      "the Although .replication DNA and silencing gene ,transcription <<< \r\n",
      ">>> structural and organizational principles of the interphase genome \r\n",
      ",Hi-C2–10 using particular in ,study intense of subject the been have <<< \r\n",
      ">>> genome-wide, high-resolution understanding of chromosome cell-cycle \r\n",
      ".technologies current by limited still is dynamics11 <<< \r\n"
     ]
    }
   ],
   "source": [
    "for par in output:\n",
    "    print ('\\n\\n'+'\\r')\n",
    "    for i in par:\n",
    "        print (' '.join(i))\n",
    "with open('flowtext3.txt','w') as f:\n",
    "    for par in output:\n",
    "        f.writelines ('\\n\\n'+'\\r')\n",
    "        for line in par:\n",
    "            f.writelines(' '.join(line))\n"
   ]
  },
  {
   "cell_type": "code",
   "execution_count": 215,
   "metadata": {},
   "outputs": [],
   "source": [
    "def flowtext(text_file_path,output_file_path, width=70):\n",
    "    with open (text_file_path,'r') as f:\n",
    "        width=width\n",
    "        text=f.read()\n",
    "        pars=text.split('\\n\\n')\n",
    "        output=list()\n",
    "        for par in pars:\n",
    "            if len(par) > 0:\n",
    "                flow=[]\n",
    "                lines=textwrap.wrap(par, width)\n",
    "                for i in range (len(lines)):\n",
    "                    line_index=i+1\n",
    "                    if line_index%2:\n",
    "                        flow.append(['>>>']+lines[i].split()+['\\r'])\n",
    "                    elif len(lines[i])< width/2:\n",
    "                        flow.append([' ']*(int(width/3))  + reverse_sentense(lines[i].split())+['<<<']+['\\r'])\n",
    "                    else:\n",
    "                        flow.append(reverse_sentense(lines[i].split())+['<<<']+['\\r'])\n",
    "                output.append(flow)\n",
    "            else: pass\n",
    "    with open(output_file_path,'w') as f:\n",
    "        for par in output:\n",
    "            f.writelines ('\\n\\n'+'\\r')\n",
    "            for line in par:\n",
    "                f.writelines(' '.join(line))\n",
    "            "
   ]
  },
  {
   "cell_type": "code",
   "execution_count": 220,
   "metadata": {},
   "outputs": [],
   "source": [
    "def flowtext(text_file_path,output_file_path, width=70):\n",
    "    f=open(text_file_path,'r')\n",
    "    fout=open(output_file_path,'w')\n",
    "    width=width\n",
    "    \n",
    "    pars=f.read().split('\\n\\n')\n",
    "    f.close()\n",
    "    \n",
    "    for par in pars:\n",
    "        if len(par) > 0:\n",
    "            fout.writelines ('\\n\\n'+'\\r')\n",
    "            flow=[]\n",
    "            lines=textwrap.wrap(par, width)\n",
    "            for i in range (len(lines)):\n",
    "                line_index=i+1\n",
    "                if line_index%2:\n",
    "                    flow.append(['>>>']+lines[i].split()+['\\r'])\n",
    "                elif len(lines[i])< width/2:\n",
    "                    flow.append([' ']*(int(width/3))  + reverse_sentense(lines[i].split())+['<<<']+['\\r'])\n",
    "                else:\n",
    "                    flow.append(reverse_sentense(lines[i].split())+['<<<']+['\\r'])\n",
    "            for line in flow:\n",
    "                fout.writelines(' '.join(line))           \n",
    "        else: pass\n",
    "    fout.close()\n"
   ]
  },
  {
   "cell_type": "code",
   "execution_count": 221,
   "metadata": {},
   "outputs": [],
   "source": [
    "flowtext(\"text.txt\",'flowtext1.txt')"
   ]
  },
  {
   "cell_type": "code",
   "execution_count": 228,
   "metadata": {},
   "outputs": [
    {
     "name": "stdout",
     "output_type": "stream",
     "text": [
      "\n",
      "\n",
      "Cell-cycle dynamics of chromosomalorganization at single-cell resolution \n",
      "\n",
      "\n",
      "Chromosomes in prolife 100 \n",
      "\n",
      "rating metazoan cells undergo marked structural metamorphoses every cell cycle, alternating \n",
      "between 100 \n",
      "\n",
      " highly condensed mitotic structures that facilitate chromosome segregation, and decondensed interph 100 \n",
      "\n",
      "ase \n",
      "structures that accommodate transcription, gene silencing and DNA replication. Here we use sing 100 \n",
      "\n",
      "le-cell Hi-C (high-\n",
      "resolution chromosome conformation capture) analysis to study chromosome conform 100 \n",
      "\n",
      "ations in thousands of individual \n",
      "cells, and discover a continuum of cis-interaction profiles that  100 \n",
      "\n",
      "finely position individual cells along the cell cycle. We \n",
      "show that chromosomal compartments, topol 100 \n",
      "\n",
      "ogical-associated domains (TADs), contact insulation and long-range loops, \n",
      "all defined by bulk Hi-C 100 \n",
      "\n",
      " maps, are governed by distinct cell-cycle dynamics. In particular, DNA replication correlates \n",
      "with 100 \n",
      "\n",
      " a build-up of compartments and a reduction in TAD insulation, while loops are generally stable from 100 \n",
      "\n",
      " G1 to S and \n",
      "G2 phase. Whole-genome three-dimensional structural models reveal a radial architectur 100 \n",
      "\n",
      "e of chromosomal compartments \n",
      "with distinct epigenomic signatures. Our single-cell data therefore a 100 \n",
      "\n",
      "llow re-interpretation of chromosome conformation \n",
      "maps through the prism of the cell cycle. \n",
      "\n",
      "As ce 100 \n",
      "\n",
      "lls progress from mitosis to interphase and back again, their chromosomes \n",
      "undergo notable structura 100 \n",
      "\n",
      "l alterations that have intrigued \n",
      "microscopists for more than a century1. In preparation for mitosi 100 \n",
      "\n",
      "s and \n",
      "cell division, chromosomes are packaged into rod-like structures that \n",
      "are functionally inert 100 \n",
      "\n",
      ". Upon mitotic exit, chromosomes rapidly decon-\n",
      "dense into structures that allow regulated access to 100 \n",
      "\n",
      " functional elements, \n",
      "enabling genome functions such as transcription, gene silencing \n",
      "and DNA repl 100 \n",
      "\n",
      "ication. Although the structural and organizational \n",
      "principles of the interphase genome have been t 100 \n",
      "\n",
      "he subject of intense \n",
      "study, in particular using Hi-C2–10, genome-wide, high-resolution \n",
      "understand 100 \n",
      "\n",
      "ing of chromosome cell-cycle dynamics11 is still limited by \n",
      "current technologies. \n",
      "\n",
      " 85 \n",
      "\n"
     ]
    }
   ],
   "source": [
    "# read large files by char\n",
    "with open('text.txt', mode='rt') as f:\n",
    "\n",
    "    text = f.read(100) # Reads the first 100 character and moves pointer to 101th character\n",
    "\n",
    "    while len(text) > 0:\n",
    "        print(text, len (text),'\\n')\n",
    "        text = f.read(100)\n",
    "        # Move pointer to end of next 100 character"
   ]
  },
  {
   "cell_type": "code",
   "execution_count": 277,
   "metadata": {},
   "outputs": [
    {
     "name": "stdout",
     "output_type": "stream",
     "text": [
      ">>> Cell-cycle dynamics of chromosomalorganization at single-cell \r\n",
      "undergo cells metazoan proliferating in Chromosomes resolution <<< \r\n",
      ">>> marked structural metamorphoses every cell cycle, alternating between \r\n",
      "chromosome facilitate that structures mitotic condensed highly <<< \r\n",
      ">>> segregation, and decondensed interphase structures that accommodate \r\n",
      "single- use we Here .replication DNA and silencing gene ,transcription <<< \r\n",
      ">>> cell Hi-C (high- resolution chromosome conformation capture) analysis \r\n",
      ",cells individual of thousands in conformations chromosome study to <<< \r\n",
      ">>> and discover a continuum of cis-interaction profiles that finely \r\n",
      "that show We .cycle cell the along cells individual position <<< \r\n",
      ">>> chromosomal compartments, topological-associated domains (TADs), \r\n",
      "Hi-C bulk by defined all ,loops long-range and insulation contact <<< \r\n",
      ">>> maps, are governed by distinct cell-cycle dynamics. In particular, DNA \r\n",
      "a and compartments of build-up a with correlates replication <<< \r\n",
      ">>> reduction in TAD insulation, while loops are generally stable from G1 \r\n",
      "models structural three-dimensional Whole-genome .phase G2 and S to <<< \r\n",
      ">>> reveal a radial architecture of chromosomal compartments with \r\n",
      "allow therefore data single-cell Our .signatures epigenomic distinct <<< \r\n",
      ">>> re-interpretation of chromosome conformation maps through the prism \r\n",
      "and interphase to mitosis from progress cells As .cycle cell the of <<< \r\n",
      ">>> back again, their chromosomes undergo notable structural alterations \r\n",
      "In .century1 a than more for microscopists intrigued have that <<< \r\n",
      ">>> preparation for mitosis and cell division, chromosomes are packaged \r\n",
      "mitotic Upon .inert functionally are that structures rod-like into <<< \r\n",
      ">>> exit, chromosomes rapidly decon- dense into structures that allow \r\n",
      "functions genome enabling ,elements functional to access regulated <<< \r\n",
      ">>> such as transcription, gene silencing and DNA replication. Although \r\n",
      "genome interphase the of principles organizational and structural the <<< \r\n",
      ">>> have been the subject of intense \r\n",
      ">>> study, in particular using Hi-C2–10, genome-wide, high-resolution \r\n",
      "by limited still is dynamics11 cell-cycle chromosome of understanding <<< \r\n",
      ">>> current technologies. \r\n"
     ]
    }
   ],
   "source": [
    "# read large files by line\n",
    "f=open('text.txt', mode='rt')\n",
    "# fout=open(output_file_path,'w')\n",
    "width=70\n",
    "\n",
    "line_per_page=25\n",
    "line = f.readline()\n",
    "par=''+ line\n",
    "while line:\n",
    "    for i in range(line_per_page):\n",
    "#         print (i+1, '--'*10,line)\n",
    "        line = f.readline()\n",
    "        par=par+line\n",
    "    if len(par) > 0:\n",
    "#         fout.writelines ('\\n\\n'+'\\r')\n",
    "#         print('\\n\\n'+'\\r')\n",
    "\n",
    "        flow=[]\n",
    "        lines=textwrap.wrap(par, width)\n",
    "        for i in range (len(lines)):\n",
    "            line_index=i+1\n",
    "            if line_index%2:\n",
    "                flow.append(['>>>']+lines[i].split()+['\\r'])\n",
    "            elif len(lines[i])< width/2:\n",
    "                flow.append([' ']*(int(width/3))  + reverse_sentense(lines[i].split())+['<<<']+['\\r'])\n",
    "            else:\n",
    "                flow.append(reverse_sentense(lines[i].split())+['<<<']+['\\r'])\n",
    "        for line in flow:\n",
    "#             fout.writelines(' '.join(line))   \n",
    "            print(' '.join(line))           \n",
    "    else: pass\n",
    "    par=''\n",
    "f.close()\n",
    "\n",
    "# fout.close()"
   ]
  },
  {
   "cell_type": "code",
   "execution_count": null,
   "metadata": {},
   "outputs": [],
   "source": []
  },
  {
   "cell_type": "code",
   "execution_count": 255,
   "metadata": {},
   "outputs": [],
   "source": []
  },
  {
   "cell_type": "markdown",
   "metadata": {},
   "source": [
    "# by class"
   ]
  },
  {
   "cell_type": "code",
   "execution_count": 78,
   "metadata": {},
   "outputs": [
    {
     "ename": "SyntaxError",
     "evalue": "invalid syntax (<ipython-input-78-4db20bfc302d>, line 6)",
     "output_type": "error",
     "traceback": [
      "\u001b[0;36m  File \u001b[0;32m\"<ipython-input-78-4db20bfc302d>\"\u001b[0;36m, line \u001b[0;32m6\u001b[0m\n\u001b[0;31m    self.data=dict(zip([i+1 for i in range lines_per_page], [\" \"*words_per_line]*))\u001b[0m\n\u001b[0m                                                        ^\u001b[0m\n\u001b[0;31mSyntaxError\u001b[0m\u001b[0;31m:\u001b[0m invalid syntax\n"
     ]
    }
   ],
   "source": [
    "class Page:\n",
    "    def __init__(self, page_index,lines_per_page=5,words_per_line=5):\n",
    "        self.l = lines_per_page\n",
    "        self.i = page_index\n",
    "        slef.wpl=words_per_line\n",
    "        self.data=dict(zip([i+1 for i in range lines_per_page], [\" \"*words_per_line]*))\n",
    "    def display(self):\n",
    "        return self.data\n",
    "x = Page(1)"
   ]
  },
  {
   "cell_type": "code",
   "execution_count": 49,
   "metadata": {},
   "outputs": [],
   "source": [
    ">>> class Line:\n",
    "...     def __init__(self, line_index, words_per_line):\n",
    "...         self.l = words_per_line\n",
    "...         self.i = line_index\n",
    "...line=namedtuple('line_index','word1, word2, word3, word4, word5, word6, word7, word8, word9, word10, word11, word12, word13, word14, word15, word16, word17, word18, word19, word20, word21, word22, word23, word24, word25')\n",
    "\n"
   ]
  },
  {
   "cell_type": "code",
   "execution_count": 67,
   "metadata": {},
   "outputs": [
    {
     "data": {
      "text/plain": [
       "{1: '     ', 2: '     ', 3: '     ', 4: '     ', 5: '     '}"
      ]
     },
     "execution_count": 67,
     "metadata": {},
     "output_type": "execute_result"
    }
   ],
   "source": [
    "dict(zip([i+1 for i in range (5)], [\" \"*5]*5))"
   ]
  },
  {
   "cell_type": "code",
   "execution_count": 73,
   "metadata": {},
   "outputs": [
    {
     "data": {
      "text/plain": [
       "OrderedDict([(1, None),\n",
       "             (2, None),\n",
       "             (3, None),\n",
       "             (4, None),\n",
       "             (5, None),\n",
       "             (6, None),\n",
       "             (7, None),\n",
       "             (8, None),\n",
       "             (9, None),\n",
       "             (10, None),\n",
       "             (11, None),\n",
       "             (12, None),\n",
       "             (13, None),\n",
       "             (14, None),\n",
       "             (15, None),\n",
       "             (16, None),\n",
       "             (17, None),\n",
       "             (18, None),\n",
       "             (19, None),\n",
       "             (20, None),\n",
       "             (21, None),\n",
       "             (22, None),\n",
       "             (23, None),\n",
       "             (24, None),\n",
       "             (25, None)])"
      ]
     },
     "execution_count": 73,
     "metadata": {},
     "output_type": "execute_result"
    }
   ],
   "source": [
    "xx=OrderedDict.fromkeys([i+1 for i in range (25)])\n",
    "xx"
   ]
  },
  {
   "cell_type": "code",
   "execution_count": 76,
   "metadata": {},
   "outputs": [],
   "source": [
    "xx[1]=['abc']"
   ]
  },
  {
   "cell_type": "code",
   "execution_count": 77,
   "metadata": {},
   "outputs": [
    {
     "data": {
      "text/plain": [
       "OrderedDict([(1, ['abc']),\n",
       "             (2, None),\n",
       "             (3, None),\n",
       "             (4, None),\n",
       "             (5, None),\n",
       "             (6, None),\n",
       "             (7, None),\n",
       "             (8, None),\n",
       "             (9, None),\n",
       "             (10, None),\n",
       "             (11, None),\n",
       "             (12, None),\n",
       "             (13, None),\n",
       "             (14, None),\n",
       "             (15, None),\n",
       "             (16, None),\n",
       "             (17, None),\n",
       "             (18, None),\n",
       "             (19, None),\n",
       "             (20, None),\n",
       "             (21, None),\n",
       "             (22, None),\n",
       "             (23, None),\n",
       "             (24, None),\n",
       "             (25, None)])"
      ]
     },
     "execution_count": 77,
     "metadata": {},
     "output_type": "execute_result"
    }
   ],
   "source": [
    "xx"
   ]
  }
 ],
 "metadata": {
  "kernelspec": {
   "display_name": "Python 3",
   "language": "python",
   "name": "python3"
  },
  "language_info": {
   "codemirror_mode": {
    "name": "ipython",
    "version": 3
   },
   "file_extension": ".py",
   "mimetype": "text/x-python",
   "name": "python",
   "nbconvert_exporter": "python",
   "pygments_lexer": "ipython3",
   "version": "3.6.10"
  }
 },
 "nbformat": 4,
 "nbformat_minor": 2
}
