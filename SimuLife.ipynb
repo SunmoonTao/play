{
 "cells": [
  {
   "cell_type": "markdown",
   "metadata": {},
   "source": [
    "#### Cell ###\n",
    "simulation vs experiment play with the most simple life exisiting in the world###\n",
    "Design a organism continously doing self_deleting in its genome, piece by piece until die, reach the most simple living organism."
   ]
  },
  {
   "cell_type": "code",
   "execution_count": 1,
   "metadata": {},
   "outputs": [],
   "source": [
    "from Bio.Seq import Seq\n",
    "from Bio.SeqUtils import MeltingTemp as mt\n",
    "from Bio.SeqUtils import GC\n",
    "from Bio import SeqIO\n",
    "import primer3\n",
    "from Bio.Alphabet import generic_dna,generic_rna,generic_protein\n",
    "import sys\n",
    "sys.path.append('/Users/ltao/codes_tao/')\n",
    "from PrimerGenerator import *\n",
    "import pandas as pd\n",
    "import copy\n",
    "import time,datetime,calendar"
   ]
  },
  {
   "cell_type": "code",
   "execution_count": 2,
   "metadata": {},
   "outputs": [
    {
     "data": {
      "text/plain": [
       "1533772256.474833"
      ]
     },
     "execution_count": 2,
     "metadata": {},
     "output_type": "execute_result"
    }
   ],
   "source": [
    "time.time()"
   ]
  },
  {
   "cell_type": "code",
   "execution_count": 3,
   "metadata": {},
   "outputs": [
    {
     "data": {
      "text/plain": [
       "'2018-08-04T07:50:27.812320'"
      ]
     },
     "execution_count": 3,
     "metadata": {},
     "output_type": "execute_result"
    }
   ],
   "source": [
    "datetime.datetime.fromtimestamp(1533383427.81232\n",
    ").isoformat()"
   ]
  },
  {
   "cell_type": "code",
   "execution_count": 4,
   "metadata": {},
   "outputs": [],
   "source": [
    "def rc(seq):\n",
    "    return( str(Seq(seq).reverse_complement()))"
   ]
  },
  {
   "cell_type": "code",
   "execution_count": 5,
   "metadata": {},
   "outputs": [],
   "source": [
    "### single cell organism ###"
   ]
  },
  {
   "cell_type": "code",
   "execution_count": 6,
   "metadata": {},
   "outputs": [],
   "source": [
    "###Start Cell\n"
   ]
  },
  {
   "cell_type": "code",
   "execution_count": 7,
   "metadata": {},
   "outputs": [],
   "source": [
    "tt=RandomDNA(3)"
   ]
  },
  {
   "cell_type": "code",
   "execution_count": 8,
   "metadata": {},
   "outputs": [],
   "source": [
    "ss=RandomDNA(3)"
   ]
  },
  {
   "cell_type": "code",
   "execution_count": 9,
   "metadata": {},
   "outputs": [
    {
     "data": {
      "text/plain": [
       "Seq('CAA', DNAAlphabet())"
      ]
     },
     "execution_count": 9,
     "metadata": {},
     "output_type": "execute_result"
    }
   ],
   "source": [
    "tt"
   ]
  },
  {
   "cell_type": "code",
   "execution_count": 10,
   "metadata": {},
   "outputs": [],
   "source": [
    "a=Seq(\"\")"
   ]
  },
  {
   "cell_type": "code",
   "execution_count": 11,
   "metadata": {},
   "outputs": [],
   "source": [
    "a=a+tt+ss"
   ]
  },
  {
   "cell_type": "code",
   "execution_count": 12,
   "metadata": {},
   "outputs": [
    {
     "data": {
      "text/plain": [
       "Seq('CAATTT', Alphabet())"
      ]
     },
     "execution_count": 12,
     "metadata": {},
     "output_type": "execute_result"
    }
   ],
   "source": [
    "a"
   ]
  },
  {
   "cell_type": "code",
   "execution_count": 27,
   "metadata": {},
   "outputs": [],
   "source": [
    "class Gene:  \n",
    "    def __init__(self,sequence,name=None):\n",
    "        self.watson=sequence.tomutable()\n",
    "        self.crick=sequence.reverse_complement().tomutable()\n",
    "        if name==None:\n",
    "            self.name='name_unknown'\n",
    "        else:\n",
    "            self.name=name\n",
    "    def transcribe(self):\n",
    "        return self.watson.toseq().transcribe()\n",
    "    def seq(self):\n",
    "        return str(self.watson)"
   ]
  },
  {
   "cell_type": "code",
   "execution_count": 14,
   "metadata": {},
   "outputs": [
    {
     "ename": "TypeError",
     "evalue": "deepcopy() missing 1 required positional argument: 'x'",
     "output_type": "error",
     "traceback": [
      "\u001b[0;31m---------------------------------------------------------------------------\u001b[0m",
      "\u001b[0;31mTypeError\u001b[0m                                 Traceback (most recent call last)",
      "\u001b[0;32m<ipython-input-14-e880084f74ca>\u001b[0m in \u001b[0;36m<module>\u001b[0;34m()\u001b[0m\n\u001b[0;32m----> 1\u001b[0;31m \u001b[0mcopy\u001b[0m\u001b[0;34m.\u001b[0m\u001b[0mdeepcopy\u001b[0m\u001b[0;34m(\u001b[0m\u001b[0;34m)\u001b[0m\u001b[0;34m\u001b[0m\u001b[0m\n\u001b[0m",
      "\u001b[0;31mTypeError\u001b[0m: deepcopy() missing 1 required positional argument: 'x'"
     ]
    }
   ],
   "source": [
    "copy.deepcopy()\n"
   ]
  },
  {
   "cell_type": "code",
   "execution_count": 31,
   "metadata": {},
   "outputs": [],
   "source": [
    "class Chromosome:\n",
    "    def __init__(self,gene_list,name=None):\n",
    "        sequence=Seq('')\n",
    "        gene_in=list()\n",
    "        for gene in gene_list:\n",
    "            sequence = sequence + gene.watson\n",
    "            gene_in.append(gene)\n",
    "        self.genes=gene_in\n",
    "        self.watson=sequence.tomutable()\n",
    "        self.crick=sequence.reverse_complement().tomutable()\n",
    "        if name==None:\n",
    "            self.name='name_unknown'\n",
    "        else:\n",
    "            self.name=name        \n",
    "    def seq(self):\n",
    "        return str(self.watson)\n"
   ]
  },
  {
   "cell_type": "code",
   "execution_count": 29,
   "metadata": {},
   "outputs": [],
   "source": [
    "geneA=Gene(RandomDNA(3**3), 'geneA')\n",
    "geneB=Gene(RandomDNA(3**3),'geneB')\n",
    "geneC=Gene(RandomDNA(3**3),'geneC')"
   ]
  },
  {
   "cell_type": "code",
   "execution_count": 32,
   "metadata": {},
   "outputs": [],
   "source": [
    "chr0=Chromosome([geneA,geneB,geneC],'chr0')"
   ]
  },
  {
   "cell_type": "code",
   "execution_count": 18,
   "metadata": {},
   "outputs": [
    {
     "ename": "SyntaxError",
     "evalue": "invalid syntax (<ipython-input-18-5ac506ec84c2>, line 16)",
     "output_type": "error",
     "traceback": [
      "\u001b[0;36m  File \u001b[0;32m\"<ipython-input-18-5ac506ec84c2>\"\u001b[0;36m, line \u001b[0;32m16\u001b[0m\n\u001b[0;31m    happen randomely\u001b[0m\n\u001b[0m                   ^\u001b[0m\n\u001b[0;31mSyntaxError\u001b[0m\u001b[0;31m:\u001b[0m invalid syntax\n"
     ]
    }
   ],
   "source": [
    "class Genome:\n",
    "    def __init__(self,chromosome_list,name=None):\n",
    "        chromosome_in=list()\n",
    "        for chromosome in chromosome_list:\n",
    "            chromosome_in.append(gene)\n",
    "        self.chromosomes=chromosome_in\n",
    "        if name==None:\n",
    "            self.name='name_unknown'\n",
    "        else:\n",
    "            self.name=name\n",
    "    def replication(self,error_rate):\n",
    "        for chromosome in self.chromosomes:\n",
    "            for gene in chromosome.genes:\n",
    "                gene.watson\n",
    "    def spontaneous_error():\n",
    "        \n",
    "        #happen randomely anywhere\n",
    "        \n",
    "        "
   ]
  },
  {
   "cell_type": "code",
   "execution_count": 19,
   "metadata": {},
   "outputs": [
    {
     "ename": "IndentationError",
     "evalue": "unexpected indent (<ipython-input-19-63562bf94f3f>, line 14)",
     "output_type": "error",
     "traceback": [
      "\u001b[0;36m  File \u001b[0;32m\"<ipython-input-19-63562bf94f3f>\"\u001b[0;36m, line \u001b[0;32m14\u001b[0m\n\u001b[0;31m    error_rate\u001b[0m\n\u001b[0m    ^\u001b[0m\n\u001b[0;31mIndentationError\u001b[0m\u001b[0;31m:\u001b[0m unexpected indent\n"
     ]
    }
   ],
   "source": [
    "### Define a most simple cell\n",
    "class Cell():\n",
    "    def __init__(self):\n",
    "        self.data = []\n",
    "    \n",
    "#     father\n",
    "#     born time\n",
    "#     age\n",
    "#     lifespan\n",
    "#     generation\n",
    "#     genome:\n",
    "#         chromosome\n",
    "#             half_keep replication\n",
    "                    error_rate\n",
    "#             transcription\n",
    "              \n",
    "            \n",
    "        \n",
    "#     transcriptome\n",
    "#         translation\n",
    "#     cycle\n",
    "#         G0,S,G1,M\n",
    "#     behave:\n",
    "#         divide\n",
    "#         die\n",
    "#             apoptosis\n",
    "#             necresis\n",
    "    \n",
    "            \n",
    "    "
   ]
  },
  {
   "cell_type": "code",
   "execution_count": 20,
   "metadata": {},
   "outputs": [],
   "source": [
    "class Organism():\n",
    "    pass"
   ]
  },
  {
   "cell_type": "code",
   "execution_count": 21,
   "metadata": {},
   "outputs": [],
   "source": [
    "class World():\n",
    "## where the organism live\n",
    "    pass"
   ]
  },
  {
   "cell_type": "code",
   "execution_count": null,
   "metadata": {},
   "outputs": [],
   "source": []
  },
  {
   "cell_type": "code",
   "execution_count": null,
   "metadata": {},
   "outputs": [],
   "source": []
  }
 ],
 "metadata": {
  "kernelspec": {
   "display_name": "Python 3",
   "language": "python",
   "name": "python3"
  },
  "language_info": {
   "codemirror_mode": {
    "name": "ipython",
    "version": 3
   },
   "file_extension": ".py",
   "mimetype": "text/x-python",
   "name": "python",
   "nbconvert_exporter": "python",
   "pygments_lexer": "ipython3",
   "version": "3.6.4"
  }
 },
 "nbformat": 4,
 "nbformat_minor": 2
}
