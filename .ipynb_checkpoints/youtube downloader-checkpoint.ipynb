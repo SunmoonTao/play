{
 "cells": [
  {
   "cell_type": "code",
   "execution_count": 12,
   "metadata": {},
   "outputs": [],
   "source": [
    "import requests\n",
    "import re\n",
    "import bs4\n",
    "import os\n",
    "from pytube import YouTube"
   ]
  },
  {
   "cell_type": "code",
   "execution_count": null,
   "metadata": {},
   "outputs": [],
   "source": []
  },
  {
   "cell_type": "code",
   "execution_count": 4,
   "metadata": {},
   "outputs": [],
   "source": [
    "# !pip install pytube bs4"
   ]
  },
  {
   "cell_type": "code",
   "execution_count": 9,
   "metadata": {},
   "outputs": [
    {
     "name": "stdout",
     "output_type": "stream",
     "text": [
      "Enabling: jupyter_http_over_ws\n",
      "- Writing config: /home/ltao/.jupyter\n",
      "    - Validating...\n",
      "      jupyter_http_over_ws 0.0.7 \u001b[32mOK\u001b[0m\n"
     ]
    }
   ],
   "source": [
    "# !pip install --upgrade jupyter_http_over_ws>=0.0.1a3 && \\\n",
    "#   jupyter serverextension enable --py jupyter_http_over_ws"
   ]
  },
  {
   "cell_type": "markdown",
   "metadata": {},
   "source": [
    "https://github.com/nficano/pytube\n",
    "# pytube\n",
    "# video is fast, audio is too slow"
   ]
  },
  {
   "cell_type": "code",
   "execution_count": 35,
   "metadata": {},
   "outputs": [],
   "source": [
    "url=\"https://www.youtube.com/watch?v=XHedu3KcPP0&list=PLuF8GDJO9aZLEdVIiCJQgkEeHSocIEy5r&ab_channel=%E8%8A%92%E6%9E%9CTV%E9%9F%B3%E4%B9%90%E9%A2%91%E9%81%93MGTVMusicChannel\"\n",
    "output_dir='/mnt/c/Users/taoli/Music/'"
   ]
  },
  {
   "cell_type": "code",
   "execution_count": 29,
   "metadata": {},
   "outputs": [
    {
     "name": "stderr",
     "output_type": "stream",
     "text": [
      "/home/ltao/miniconda3/envs/play/lib/python3.9/site-packages/ipykernel/ipkernel.py:283: DeprecationWarning: `should_run_async` will not call `transform_cell` automatically in the future. Please pass the result to `transformed_cell` argument and any exception that happen during thetransform in `preprocessing_exc_tuple` in IPython 7.17 and above.\n",
      "  and should_run_async(code)\n"
     ]
    }
   ],
   "source": [
    "def one_video_downloader(url,output_dir):\n",
    "    yt = YouTube(url)\n",
    "    stream = yt.streams.first()\n",
    "    stream.download(output_dir)"
   ]
  },
  {
   "cell_type": "markdown",
   "metadata": {},
   "source": [
    "# download video playlist\n"
   ]
  },
  {
   "cell_type": "code",
   "execution_count": 36,
   "metadata": {},
   "outputs": [],
   "source": [
    "from pytube import Playlist\n",
    "pl = Playlist(url)\n",
    "urls=pl.video_urls\n",
    "for url in urls:\n",
    "    # check title in folder, pass if already downloaded\n",
    "    try:\n",
    "        one_video_downloader(url,output_dir)\n",
    "    except:\n",
    "        pass\n"
   ]
  },
  {
   "cell_type": "markdown",
   "metadata": {},
   "source": [
    "# pafy"
   ]
  },
  {
   "cell_type": "code",
   "execution_count": 38,
   "metadata": {},
   "outputs": [
    {
     "name": "stdout",
     "output_type": "stream",
     "text": [
      "Collecting pafy\n",
      "  Downloading pafy-0.5.5-py2.py3-none-any.whl (35 kB)\n",
      "Installing collected packages: pafy\n",
      "Successfully installed pafy-0.5.5\n"
     ]
    }
   ],
   "source": [
    "!pip install pafy"
   ]
  },
  {
   "cell_type": "code",
   "execution_count": 40,
   "metadata": {},
   "outputs": [
    {
     "name": "stdout",
     "output_type": "stream",
     "text": [
      "Collecting youtube-dl\n",
      "  Downloading youtube_dl-2021.2.10-py2.py3-none-any.whl (1.9 MB)\n",
      "\u001b[K     |████████████████████████████████| 1.9 MB 2.4 MB/s eta 0:00:01\n",
      "\u001b[?25hInstalling collected packages: youtube-dl\n",
      "Successfully installed youtube-dl-2021.2.10\n"
     ]
    }
   ],
   "source": [
    "!pip install youtube-dl"
   ]
  },
  {
   "cell_type": "code",
   "execution_count": 41,
   "metadata": {},
   "outputs": [],
   "source": [
    "import pafy"
   ]
  },
  {
   "cell_type": "code",
   "execution_count": null,
   "metadata": {},
   "outputs": [],
   "source": [
    "# download audio only"
   ]
  },
  {
   "cell_type": "code",
   "execution_count": 44,
   "metadata": {},
   "outputs": [
    {
     "name": "stderr",
     "output_type": "stream",
     "text": [
      "/home/ltao/miniconda3/envs/play/lib/python3.9/site-packages/ipykernel/ipkernel.py:283: DeprecationWarning: `should_run_async` will not call `transform_cell` automatically in the future. Please pass the result to `transformed_cell` argument and any exception that happen during thetransform in `preprocessing_exc_tuple` in IPython 7.17 and above.\n",
      "  and should_run_async(code)\n"
     ]
    },
    {
     "name": "stdout",
     "output_type": "stream",
     "text": [
      "\n",
      "\n",
      "\n",
      "\n",
      "\n",
      "\n",
      "\n",
      "\n",
      "\n",
      "\n",
      "\n",
      "\n",
      "\n",
      "\n",
      "\n",
      "\n",
      "\n",
      "  3,425,630.0 Bytes [100.00%] received. Rate: [7734 KB/s].  ETA: [0 secs]    \n",
      "  3,898,123.0 Bytes [100.00%] received. Rate: [7644 KB/s].  ETA: [0 secs]    \n"
     ]
    },
    {
     "name": "stderr",
     "output_type": "stream",
     "text": [
      "ERROR: Private video\n",
      "Sign in if you've been granted access to this video\n"
     ]
    },
    {
     "name": "stdout",
     "output_type": "stream",
     "text": [
      "  4,380,993.0 Bytes [100.00%] received. Rate: [7548 KB/s].  ETA: [0 secs]    \n",
      "  2,509,111.0 Bytes [100.00%] received. Rate: [3824 KB/s].  ETA: [0 secs]    \n",
      "  5,242,348.0 Bytes [100.00%] received. Rate: [6504 KB/s].  ETA: [0 secs]    \n",
      "  3,837,499.0 Bytes [100.00%] received. Rate: [7295 KB/s].  ETA: [0 secs]    \n",
      "  5,276,781.0 Bytes [100.00%] received. Rate: [8314 KB/s].  ETA: [0 secs]    \n",
      "  4,353,109.0 Bytes [100.00%] received. Rate: [7574 KB/s].  ETA: [0 secs]    \n",
      "  4,735,372.0 Bytes [100.00%] received. Rate: [8549 KB/s].  ETA: [0 secs]    \n",
      "  4,695,385.0 Bytes [100.00%] received. Rate: [7961 KB/s].  ETA: [0 secs]    \n",
      "  5,475,311.0 Bytes [100.00%] received. Rate: [7454 KB/s].  ETA: [0 secs]    \n",
      "  4,910,384.0 Bytes [100.00%] received. Rate: [9171 KB/s].  ETA: [0 secs]    \n",
      "  4,467,162.0 Bytes [100.00%] received. Rate: [9096 KB/s].  ETA: [0 secs]    \n",
      "  5,184,404.0 Bytes [100.00%] received. Rate: [7943 KB/s].  ETA: [0 secs]    \n",
      "  3,671,862.0 Bytes [100.00%] received. Rate: [7047 KB/s].  ETA: [0 secs]    \n",
      "  4,518,146.0 Bytes [100.00%] received. Rate: [8795 KB/s].  ETA: [0 secs]    \n",
      "  4,860,987.0 Bytes [100.00%] received. Rate: [7641 KB/s].  ETA: [0 secs]    \n",
      "  4,920,624.0 Bytes [100.00%] received. Rate: [8782 KB/s].  ETA: [0 secs]    \n",
      "  3,875,205.0 Bytes [100.00%] received. Rate: [9116 KB/s].  ETA: [0 secs]    \n",
      "  3,934,861.0 Bytes [100.00%] received. Rate: [9456 KB/s].  ETA: [0 secs]    \n",
      "  3,427,796.0 Bytes [100.00%] received. Rate: [9202 KB/s].  ETA: [0 secs]    \n",
      "  4,681,331.0 Bytes [100.00%] received. Rate: [8661 KB/s].  ETA: [0 secs]    \n",
      "  5,457,069.0 Bytes [100.00%] received. Rate: [9949 KB/s].  ETA: [0 secs]    \n",
      "  5,720,971.0 Bytes [100.00%] received. Rate: [8054 KB/s].  ETA: [0 secs]    \n",
      "  3,608,692.0 Bytes [100.00%] received. Rate: [6458 KB/s].  ETA: [0 secs]    \n",
      "  3,448,229.0 Bytes [100.00%] received. Rate: [8022 KB/s].  ETA: [0 secs]    \n",
      "  4,832,224.0 Bytes [100.00%] received. Rate: [6462 KB/s].  ETA: [0 secs]    \n",
      "  4,272,399.0 Bytes [100.00%] received. Rate: [8273 KB/s].  ETA: [0 secs]    \n",
      "  3,254,137.0 Bytes [100.00%] received. Rate: [8145 KB/s].  ETA: [0 secs]    \n",
      "  3,997,311.0 Bytes [100.00%] received. Rate: [6905 KB/s].  ETA: [0 secs]    \n",
      "  4,159,178.0 Bytes [100.00%] received. Rate: [8685 KB/s].  ETA: [0 secs]    \n",
      "  4,909,692.0 Bytes [100.00%] received. Rate: [8824 KB/s].  ETA: [0 secs]    \n",
      "  4,341,938.0 Bytes [100.00%] received. Rate: [6908 KB/s].  ETA: [0 secs]    \n",
      "  4,426,438.0 Bytes [100.00%] received. Rate: [9603 KB/s].  ETA: [0 secs]    \n",
      "  4,096,958.0 Bytes [100.00%] received. Rate: [7110 KB/s].  ETA: [0 secs]    \n",
      "  5,016,960.0 Bytes [100.00%] received. Rate: [9835 KB/s].  ETA: [0 secs]    \n",
      "  3,120,655.0 Bytes [100.00%] received. Rate: [9404 KB/s].  ETA: [0 secs]    \n",
      "  4,521,032.0 Bytes [100.00%] received. Rate: [6397 KB/s].  ETA: [0 secs]    \n",
      "  5,114,066.0 Bytes [100.00%] received. Rate: [8824 KB/s].  ETA: [0 secs]    \n",
      "  3,645,187.0 Bytes [100.00%] received. Rate: [8680 KB/s].  ETA: [0 secs]    \n",
      "  4,232,569.0 Bytes [100.00%] received. Rate: [8639 KB/s].  ETA: [0 secs]    \n",
      "  5,451,629.0 Bytes [100.00%] received. Rate: [6741 KB/s].  ETA: [0 secs]    \n",
      "  4,343,212.0 Bytes [100.00%] received. Rate: [2032 KB/s].  ETA: [0 secs]    \n",
      "  5,574,117.0 Bytes [100.00%] received. Rate: [4658 KB/s].  ETA: [0 secs]    \n",
      "  3,480,491.0 Bytes [100.00%] received. Rate: [8592 KB/s].  ETA: [0 secs]    \n",
      "  5,199,669.0 Bytes [100.00%] received. Rate: [10116 KB/s].  ETA: [0 secs]    \n",
      "  3,979,355.0 Bytes [100.00%] received. Rate: [9369 KB/s].  ETA: [0 secs]    \n",
      "  4,064,958.0 Bytes [100.00%] received. Rate: [3016 KB/s].  ETA: [0 secs]    \n",
      "  3,738,620.0 Bytes [100.00%] received. Rate: [9877 KB/s].  ETA: [0 secs]    \n",
      "  4,414,568.0 Bytes [100.00%] received. Rate: [9920 KB/s].  ETA: [0 secs]    \n",
      "  4,684,628.0 Bytes [100.00%] received. Rate: [9778 KB/s].  ETA: [0 secs]    \n",
      "  5,146,334.0 Bytes [100.00%] received. Rate: [7887 KB/s].  ETA: [0 secs]    \n",
      "  4,221,566.0 Bytes [100.00%] received. Rate: [9460 KB/s].  ETA: [0 secs]    \n",
      "  3,792,929.0 Bytes [100.00%] received. Rate: [8105 KB/s].  ETA: [0 secs]    \n",
      "  5,199,172.0 Bytes [100.00%] received. Rate: [9547 KB/s].  ETA: [0 secs]    \n",
      "  4,381,353.0 Bytes [100.00%] received. Rate: [9616 KB/s].  ETA: [0 secs]    \n",
      "  3,556,750.0 Bytes [100.00%] received. Rate: [9478 KB/s].  ETA: [0 secs]    \n",
      "  4,026,294.0 Bytes [100.00%] received. Rate: [8215 KB/s].  ETA: [0 secs]    \n",
      "  2,579,708.0 Bytes [100.00%] received. Rate: [7915 KB/s].  ETA: [0 secs]    \n",
      "  2,216,079.0 Bytes [100.00%] received. Rate: [8035 KB/s].  ETA: [0 secs]    \n",
      "  2,951,902.0 Bytes [100.00%] received. Rate: [9000 KB/s].  ETA: [0 secs]    \n",
      "  7,684,038.0 Bytes [100.00%] received. Rate: [10142 KB/s].  ETA: [0 secs]    \n",
      "  4,606,876.0 Bytes [100.00%] received. Rate: [8529 KB/s].  ETA: [0 secs]    \n",
      "  2,210,359.0 Bytes [100.00%] received. Rate: [5078 KB/s].  ETA: [0 secs]    \n",
      "  4,196,245.0 Bytes [100.00%] received. Rate: [8694 KB/s].  ETA: [0 secs]    \n",
      "  4,969,887.0 Bytes [100.00%] received. Rate: [9051 KB/s].  ETA: [0 secs]    \n",
      "  4,164,935.0 Bytes [100.00%] received. Rate: [2859 KB/s].  ETA: [0 secs]    \n",
      "  3,161,823.0 Bytes [100.00%] received. Rate: [6761 KB/s].  ETA: [0 secs]    \n",
      "  4,423,320.0 Bytes [100.00%] received. Rate: [9721 KB/s].  ETA: [0 secs]    \n",
      "  3,374,136.0 Bytes [100.00%] received. Rate: [6194 KB/s].  ETA: [0 secs]    \n",
      "  6,888,751.0 Bytes [100.00%] received. Rate: [10559 KB/s].  ETA: [0 secs]    \n",
      "  2,629,102.0 Bytes [100.00%] received. Rate: [8658 KB/s].  ETA: [0 secs]    \n",
      "  4,105,057.0 Bytes [100.00%] received. Rate: [7747 KB/s].  ETA: [0 secs]    \n",
      "  4,142,589.0 Bytes [100.00%] received. Rate: [1906 KB/s].  ETA: [0 secs]    \n",
      "  3,448,562.0 Bytes [100.00%] received. Rate: [6796 KB/s].  ETA: [0 secs]    \n",
      "  4,637,901.0 Bytes [100.00%] received. Rate: [9101 KB/s].  ETA: [0 secs]    \n",
      "  4,904,617.0 Bytes [100.00%] received. Rate: [9069 KB/s].  ETA: [0 secs]    \n",
      "  10,820,404.0 Bytes [100.00%] received. Rate: [1989 KB/s].  ETA: [0 secs]    \n"
     ]
    },
    {
     "name": "stderr",
     "output_type": "stream",
     "text": [
      "ERROR: Video unavailable\n",
      "This video contains content from Shanghai Orient Media Co.Ltd - 看东方（上海）传媒有限公司, who has blocked it on copyright grounds.\n"
     ]
    },
    {
     "name": "stdout",
     "output_type": "stream",
     "text": [
      "  3,819,556.0 Bytes [100.00%] received. Rate: [6956 KB/s].  ETA: [0 secs]    \n",
      "  2,842,553.0 Bytes [100.00%] received. Rate: [8339 KB/s].  ETA: [0 secs]    \n",
      "  4,589,483.0 Bytes [100.00%] received. Rate: [6508 KB/s].  ETA: [0 secs]    \n",
      "  4,918,757.0 Bytes [100.00%] received. Rate: [8848 KB/s].  ETA: [0 secs]    \n",
      "  4,247,293.0 Bytes [100.00%] received. Rate: [7502 KB/s].  ETA: [0 secs]    \n",
      "  4,672,509.0 Bytes [100.00%] received. Rate: [8388 KB/s].  ETA: [0 secs]    \n",
      "  2,834,212.0 Bytes [100.00%] received. Rate: [9174 KB/s].  ETA: [0 secs]    \n",
      "  3,522,445.0 Bytes [100.00%] received. Rate: [6923 KB/s].  ETA: [0 secs]    \n",
      "  3,837,124.0 Bytes [100.00%] received. Rate: [8098 KB/s].  ETA: [0 secs]    \n",
      "  3,779,717.0 Bytes [100.00%] received. Rate: [7241 KB/s].  ETA: [0 secs]    \n",
      "  4,576,750.0 Bytes [100.00%] received. Rate: [8282 KB/s].  ETA: [0 secs]    \n",
      "  7,411,991.0 Bytes [100.00%] received. Rate: [8788 KB/s].  ETA: [0 secs]    \n",
      "  3,905,640.0 Bytes [100.00%] received. Rate: [8119 KB/s].  ETA: [0 secs]    \n",
      "  5,273,051.0 Bytes [100.00%] received. Rate: [9525 KB/s].  ETA: [0 secs]    \n",
      "  3,892,679.0 Bytes [100.00%] received. Rate: [8344 KB/s].  ETA: [0 secs]    \n",
      "  3,353,858.0 Bytes [100.00%] received. Rate: [6837 KB/s].  ETA: [0 secs]    \n",
      "  4,619,006.0 Bytes [100.00%] received. Rate: [8195 KB/s].  ETA: [0 secs]    \n",
      "  14,346,635.0 Bytes [100.00%] received. Rate: [7031 KB/s].  ETA: [0 secs]    \n",
      "  1,028,145.0 Bytes [100.00%] received. Rate: [3561 KB/s].  ETA: [0 secs]    \n",
      "  5,208,904.0 Bytes [100.00%] received. Rate: [6387 KB/s].  ETA: [0 secs]    \n",
      "  5,013,369.0 Bytes [100.00%] received. Rate: [8774 KB/s].  ETA: [0 secs]    \n",
      "  3,395,261.0 Bytes [100.00%] received. Rate: [7115 KB/s].  ETA: [0 secs]    \n",
      "  3,050,714.0 Bytes [100.00%] received. Rate: [8633 KB/s].  ETA: [0 secs]    \n",
      "  743,270.0 Bytes [100.00%] received. Rate: [3031 KB/s].  ETA: [0 secs]    \n",
      "  3,660,591.0 Bytes [100.00%] received. Rate: [8260 KB/s].  ETA: [0 secs]    \n",
      "  4,372,546.0 Bytes [100.00%] received. Rate: [8986 KB/s].  ETA: [0 secs]    \n",
      "  4,637,371.0 Bytes [100.00%] received. Rate: [8332 KB/s].  ETA: [0 secs]    \n",
      "  2,348,272.0 Bytes [100.00%] received. Rate: [8025 KB/s].  ETA: [0 secs]    \n",
      "  4,982,509.0 Bytes [100.00%] received. Rate: [7111 KB/s].  ETA: [0 secs]    \n",
      "  3,841,366.0 Bytes [100.00%] received. Rate: [7172 KB/s].  ETA: [0 secs]    \n",
      "  5,057,745.0 Bytes [100.00%] received. Rate: [10175 KB/s].  ETA: [0 secs]    \n"
     ]
    },
    {
     "name": "stderr",
     "output_type": "stream",
     "text": [
      "ERROR: Video unavailable\n",
      "This video contains content from Jiangsu TV 长江龙新媒体有限公司, who has blocked it on copyright grounds.\n"
     ]
    },
    {
     "name": "stdout",
     "output_type": "stream",
     "text": [
      "  5,220,109.0 Bytes [100.00%] received. Rate: [8277 KB/s].  ETA: [0 secs]    \n",
      "  3,262,529.0 Bytes [100.00%] received. Rate: [4849 KB/s].  ETA: [0 secs]    \n",
      "  6,049,204.0 Bytes [100.00%] received. Rate: [8485 KB/s].  ETA: [0 secs]    \n",
      "  2,892,748.0 Bytes [100.00%] received. Rate: [7262 KB/s].  ETA: [0 secs]    \n",
      "  3,374,512.0 Bytes [100.00%] received. Rate: [7533 KB/s].  ETA: [0 secs]    \n",
      "  5,228,784.0 Bytes [100.00%] received. Rate: [7875 KB/s].  ETA: [0 secs]    \n",
      "  2,872,421.0 Bytes [100.00%] received. Rate: [7203 KB/s].  ETA: [0 secs]    \n",
      "  5,222,310.0 Bytes [100.00%] received. Rate: [8214 KB/s].  ETA: [0 secs]    \n",
      "  5,209,189.0 Bytes [100.00%] received. Rate: [6568 KB/s].  ETA: [0 secs]    \n",
      "  3,936,510.0 Bytes [100.00%] received. Rate: [6161 KB/s].  ETA: [0 secs]    \n",
      "  3,929,910.0 Bytes [100.00%] received. Rate: [6530 KB/s].  ETA: [0 secs]    \n",
      "  4,215,051.0 Bytes [100.00%] received. Rate: [7136 KB/s].  ETA: [0 secs]    \n",
      "  4,117,432.0 Bytes [100.00%] received. Rate: [8344 KB/s].  ETA: [0 secs]    \n",
      "  4,387,799.0 Bytes [100.00%] received. Rate: [7952 KB/s].  ETA: [0 secs]    \n",
      "  4,486,557.0 Bytes [100.00%] received. Rate: [8470 KB/s].  ETA: [0 secs]    \n",
      "  3,914,560.0 Bytes [100.00%] received. Rate: [7434 KB/s].  ETA: [0 secs]    \n",
      "  4,542,178.0 Bytes [100.00%] received. Rate: [6278 KB/s].  ETA: [0 secs]    \n",
      "  3,407,386.0 Bytes [100.00%] received. Rate: [5811 KB/s].  ETA: [0 secs]    \n",
      "  8,678,087.0 Bytes [100.00%] received. Rate: [8955 KB/s].  ETA: [0 secs]    \n",
      "  8,589,806.0 Bytes [100.00%] received. Rate: [8203 KB/s].  ETA: [0 secs]    \n",
      "  3,245,858.0 Bytes [100.00%] received. Rate: [7579 KB/s].  ETA: [0 secs]    \n",
      "  2,454,660.0 Bytes [100.00%] received. Rate: [6482 KB/s].  ETA: [0 secs]    \n",
      "  3,582,781.0 Bytes [100.00%] received. Rate: [6861 KB/s].  ETA: [0 secs]    \n",
      "  3,851,394.0 Bytes [100.00%] received. Rate: [8771 KB/s].  ETA: [0 secs]    \n",
      "  6,289,878.0 Bytes [100.00%] received. Rate: [10231 KB/s].  ETA: [0 secs]    \n",
      "  4,822,809.0 Bytes [100.00%] received. Rate: [9417 KB/s].  ETA: [0 secs]    \n",
      "  6,026,172.0 Bytes [100.00%] received. Rate: [9763 KB/s].  ETA: [0 secs]    \n",
      "  4,142,862.0 Bytes [100.00%] received. Rate: [9585 KB/s].  ETA: [0 secs]    \n",
      "  5,035,841.0 Bytes [100.00%] received. Rate: [9077 KB/s].  ETA: [0 secs]    \n",
      "  2,525,602.0 Bytes [100.00%] received. Rate: [8360 KB/s].  ETA: [0 secs]    \n",
      "  4,381,192.0 Bytes [100.00%] received. Rate: [7979 KB/s].  ETA: [0 secs]    \n",
      "  21,294,003.0 Bytes [100.00%] received. Rate: [5036 KB/s].  ETA: [0 secs]    \n",
      "  3,956,433.0 Bytes [100.00%] received. Rate: [8484 KB/s].  ETA: [0 secs]    \n",
      "  4,124,363.0 Bytes [100.00%] received. Rate: [8333 KB/s].  ETA: [0 secs]    \n",
      "  4,351,070.0 Bytes [100.00%] received. Rate: [7942 KB/s].  ETA: [0 secs]    \n",
      "  3,995,333.0 Bytes [100.00%] received. Rate: [6666 KB/s].  ETA: [0 secs]    \n",
      "  3,970,650.0 Bytes [100.00%] received. Rate: [9148 KB/s].  ETA: [0 secs]    \n",
      "  4,342,253.0 Bytes [100.00%] received. Rate: [7427 KB/s].  ETA: [0 secs]    \n",
      "  8,649,731.0 Bytes [100.00%] received. Rate: [10156 KB/s].  ETA: [0 secs]    \n",
      "  3,375,542.0 Bytes [100.00%] received. Rate: [8382 KB/s].  ETA: [0 secs]    \n",
      "  4,866,706.0 Bytes [100.00%] received. Rate: [8651 KB/s].  ETA: [0 secs]    \n",
      "  2,743,617.0 Bytes [100.00%] received. Rate: [8603 KB/s].  ETA: [0 secs]    \n",
      "  4,984,396.0 Bytes [100.00%] received. Rate: [10069 KB/s].  ETA: [0 secs]    \n",
      "  3,235,194.0 Bytes [100.00%] received. Rate: [6153 KB/s].  ETA: [0 secs]    \n",
      "  3,244,957.0 Bytes [100.00%] received. Rate: [8617 KB/s].  ETA: [0 secs]    \n",
      "  3,872,068.0 Bytes [100.00%] received. Rate: [7043 KB/s].  ETA: [0 secs]    \n",
      "  3,155,966.0 Bytes [100.00%] received. Rate: [8295 KB/s].  ETA: [0 secs]    \n",
      "  3,030,679.0 Bytes [100.00%] received. Rate: [9306 KB/s].  ETA: [0 secs]    \n",
      "  7,034,632.0 Bytes [100.00%] received. Rate: [10149 KB/s].  ETA: [0 secs]    \n",
      "  4,843,525.0 Bytes [100.00%] received. Rate: [7140 KB/s].  ETA: [0 secs]    \n"
     ]
    }
   ],
   "source": [
    " \n",
    "for url in urls:\n",
    "    try:\n",
    "        video = pafy.new(url)\n",
    "        bestaudio = video.getbestaudio()\n",
    "        bestaudio.download(output_dir)\n",
    "    except:\n",
    "        pass\n"
   ]
  },
  {
   "cell_type": "code",
   "execution_count": null,
   "metadata": {},
   "outputs": [],
   "source": []
  }
 ],
 "metadata": {
  "kernelspec": {
   "display_name": "Python 3",
   "language": "python",
   "name": "python3"
  },
  "language_info": {
   "codemirror_mode": {
    "name": "ipython",
    "version": 3
   },
   "file_extension": ".py",
   "mimetype": "text/x-python",
   "name": "python",
   "nbconvert_exporter": "python",
   "pygments_lexer": "ipython3",
   "version": "3.9.1"
  },
  "toc": {
   "base_numbering": 1,
   "nav_menu": {},
   "number_sections": true,
   "sideBar": true,
   "skip_h1_title": false,
   "title_cell": "Table of Contents",
   "title_sidebar": "Contents",
   "toc_cell": false,
   "toc_position": {},
   "toc_section_display": true,
   "toc_window_display": false
  }
 },
 "nbformat": 4,
 "nbformat_minor": 4
}
